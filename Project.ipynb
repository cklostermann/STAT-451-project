{
 "cells": [
  {
   "cell_type": "code",
   "execution_count": 1,
   "metadata": {},
   "outputs": [],
   "source": [
    "import pandas as pd"
   ]
  },
  {
   "cell_type": "code",
   "execution_count": 9,
   "metadata": {},
   "outputs": [],
   "source": [
    "#read in 2015-2022 datasets and add year column\n",
    "df_15 = pd.read_csv('https://raw.githubusercontent.com/cklostermann/STAT-451-project/main/2015.csv')\n",
    "df_15[\"Year\"] = 2015\n",
    "\n",
    "df_16 = pd.read_csv('https://raw.githubusercontent.com/cklostermann/STAT-451-project/main/2016.csv')\n",
    "df_16[\"Year\"] = 2016\n",
    "\n",
    "df_17 = pd.read_csv('https://raw.githubusercontent.com/cklostermann/STAT-451-project/main/2017.csv')\n",
    "df_17[\"Year\"] = 2017\n",
    "\n",
    "df_18 = pd.read_csv('https://raw.githubusercontent.com/cklostermann/STAT-451-project/main/2018.csv')\n",
    "df_18[\"Year\"] = 2018\n",
    "\n",
    "df_19 = pd.read_csv('https://raw.githubusercontent.com/cklostermann/STAT-451-project/main/2019.csv')\n",
    "df_19[\"Year\"] = 2019\n",
    "\n",
    "df_20 = pd.read_csv('https://raw.githubusercontent.com/cklostermann/STAT-451-project/main/2020.csv')\n",
    "df_20[\"Year\"] = 2020\n",
    "\n",
    "df_21 = pd.read_csv('https://raw.githubusercontent.com/cklostermann/STAT-451-project/main/2021.csv')\n",
    "df_21[\"Year\"] = 2021\n",
    "\n",
    "df_22 = pd.read_csv('https://raw.githubusercontent.com/cklostermann/STAT-451-project/main/2022.csv')\n",
    "df_22[\"Year\"] = 2022"
   ]
  },
  {
   "cell_type": "code",
   "execution_count": 15,
   "metadata": {},
   "outputs": [
    {
     "data": {
      "text/plain": [
       "['Country',\n",
       " 'Region',\n",
       " 'Happiness Rank',\n",
       " 'Happiness Score',\n",
       " 'Standard Error',\n",
       " 'Economy (GDP per Capita)',\n",
       " 'Family',\n",
       " 'Health (Life Expectancy)',\n",
       " 'Freedom',\n",
       " 'Trust (Government Corruption)',\n",
       " 'Generosity',\n",
       " 'Dystopia Residual',\n",
       " 'Year',\n",
       " 'Lower Confidence Interval',\n",
       " 'Upper Confidence Interval',\n",
       " 'Happiness.Rank',\n",
       " 'Happiness.Score',\n",
       " 'Whisker.high',\n",
       " 'Whisker.low',\n",
       " 'Economy..GDP.per.Capita.',\n",
       " 'Health..Life.Expectancy.',\n",
       " 'Trust..Government.Corruption.',\n",
       " 'Dystopia.Residual',\n",
       " 'Overall rank',\n",
       " 'Country or region',\n",
       " 'Score',\n",
       " 'GDP per capita',\n",
       " 'Social support',\n",
       " 'Healthy life expectancy',\n",
       " 'Freedom to make life choices',\n",
       " 'Perceptions of corruption',\n",
       " 'Country name',\n",
       " 'Regional indicator',\n",
       " 'Ladder score',\n",
       " 'Standard error of ladder score',\n",
       " 'upperwhisker',\n",
       " 'lowerwhisker',\n",
       " 'Logged GDP per capita',\n",
       " 'Ladder score in Dystopia',\n",
       " 'Explained by: Log GDP per capita',\n",
       " 'Explained by: Social support',\n",
       " 'Explained by: Healthy life expectancy',\n",
       " 'Explained by: Freedom to make life choices',\n",
       " 'Explained by: Generosity',\n",
       " 'Explained by: Perceptions of corruption',\n",
       " 'Dystopia + residual',\n",
       " 'RANK',\n",
       " 'Happiness score',\n",
       " 'Whisker-high',\n",
       " 'Whisker-low',\n",
       " 'Dystopia (1.83) + residual',\n",
       " 'Explained by: GDP per capita']"
      ]
     },
     "execution_count": 15,
     "metadata": {},
     "output_type": "execute_result"
    }
   ],
   "source": [
    "#merge datasets\n",
    "df = pd.concat([df_15, df_16, df_17, df_18, df_19, df_20, df_21, df_22])\n",
    "\n",
    "list(df.columns) #will have to clean up column names so that they can merge properly"
   ]
  },
  {
   "cell_type": "code",
   "execution_count": null,
   "metadata": {},
   "outputs": [],
   "source": []
  }
 ],
 "metadata": {
  "kernelspec": {
   "display_name": "Python 3",
   "language": "python",
   "name": "python3"
  },
  "language_info": {
   "codemirror_mode": {
    "name": "ipython",
    "version": 3
   },
   "file_extension": ".py",
   "mimetype": "text/x-python",
   "name": "python",
   "nbconvert_exporter": "python",
   "pygments_lexer": "ipython3",
   "version": "3.8.1"
  }
 },
 "nbformat": 4,
 "nbformat_minor": 4
}
