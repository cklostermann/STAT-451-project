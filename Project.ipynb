{
 "cells": [
  {
   "cell_type": "code",
   "execution_count": 88,
   "metadata": {},
   "outputs": [],
   "source": [
    "import pandas as pd\n",
    "import numpy as np\n",
    "import matplotlib.pyplot as plt\n",
    "\n",
    "from sklearn.preprocessing import MinMaxScaler\n",
    "from sklearn import mixture\n",
    "from sklearn import metrics\n",
    "\n",
    "from sklearn.model_selection import train_test_split, GridSearchCV\n",
    "from sklearn import svm, linear_model, datasets\n",
    "from sklearn.tree import DecisionTreeClassifier\n",
    "from sklearn.neighbors import KNeighborsClassifier"
   ]
  },
  {
   "cell_type": "code",
   "execution_count": 2,
   "metadata": {},
   "outputs": [],
   "source": [
    "#read in 2015-2022 datasets, add year column, add rank to years that don't have rank, clean column names \n",
    "df_15 = pd.read_csv('https://raw.githubusercontent.com/cklostermann/STAT-451-project/main/2015.csv')\n",
    "df_15[\"Year\"] = 2015\n",
    "df_15.rename(columns = {'Family':'Social support'}, inplace = True)\n",
    "\n",
    "df_16 = pd.read_csv('https://raw.githubusercontent.com/cklostermann/STAT-451-project/main/2016.csv')\n",
    "df_16[\"Year\"] = 2016\n",
    "df_16.rename(columns = {'Family':'Social support'}, inplace = True)\n",
    "\n",
    "df_17 = pd.read_csv('https://raw.githubusercontent.com/cklostermann/STAT-451-project/main/2017.csv')\n",
    "df_17[\"Year\"] = 2017\n",
    "df_17. rename(columns = {'Happiness.Rank':'Happiness Rank', 'Happiness.Score':'Happiness Score',\n",
    "                         'Economy..GDP.per.Capita.':'Economy (GDP per Capita)',\n",
    "                         'Health..Life.Expectancy.':'Health (Life Expectancy)',\n",
    "                         'Trust..Government.Corruption.':'Trust (Government Corruption)',\n",
    "                        'Dystopia.Residual':'Dystopia Residual',\n",
    "                        'Family':'Social support'}, inplace = True)\n",
    "\n",
    "df_18 = pd.read_csv('https://raw.githubusercontent.com/cklostermann/STAT-451-project/main/2018.csv')\n",
    "df_18[\"Year\"] = 2018\n",
    "df_18. rename(columns = {'Overall rank':'Happiness Rank', 'Score':'Happiness Score',\n",
    "                         'Country or region':'Country',\n",
    "                         'GDP per capita':'Economy (GDP per Capita)',\n",
    "                         'Healthy life expectancy':'Health (Life Expectancy)',\n",
    "                         'Freedom to make life choices':'Freedom',\n",
    "                        'Perceptions of corruption':'Trust (Government Corruption)'}, inplace = True)\n",
    "\n",
    "df_19 = pd.read_csv('https://raw.githubusercontent.com/cklostermann/STAT-451-project/main/2019.csv')\n",
    "df_19[\"Year\"] = 2019\n",
    "df_19. rename(columns = {'Overall rank':'Happiness Rank', 'Score':'Happiness Score',\n",
    "                         'Country or region':'Country',\n",
    "                         'GDP per capita':'Economy (GDP per Capita)',\n",
    "                         'Healthy life expectancy':'Health (Life Expectancy)',\n",
    "                         'Freedom to make life choices':'Freedom',\n",
    "                        'Perceptions of corruption':'Trust (Government Corruption)'}, inplace = True)\n",
    "\n",
    "df_20 = pd.read_csv('https://raw.githubusercontent.com/cklostermann/STAT-451-project/main/2020.csv')\n",
    "df_20[\"Year\"] = 2020\n",
    "df_20.rename(columns = {'Ladder score':'Happiness Score',\n",
    "                         'Country name':'Country',\n",
    "                         'Logged GDP per capita':'Economy (GDP per Capita)',\n",
    "                         'Healthy life expectancy':'Health (Life Expectancy)',\n",
    "                         'Freedom to make life choices':'Freedom',\n",
    "                        'Perceptions of corruption':'Trust (Government Corruption)',\n",
    "                       'Dystopia + residual':'Dystopia Residual'}, inplace = True)\n",
    "df_20['Happiness Rank'] = df_20['Happiness Score'].rank(ascending=False)\n",
    "\n",
    "df_21 = pd.read_csv('https://raw.githubusercontent.com/cklostermann/STAT-451-project/main/2021.csv')\n",
    "df_21[\"Year\"] = 2021\n",
    "df_21.rename(columns = {'Ladder score':'Happiness Score',\n",
    "                         'Country name':'Country',\n",
    "                         'Logged GDP per capita':'Economy (GDP per Capita)',\n",
    "                         'Healthy life expectancy':'Health (Life Expectancy)',\n",
    "                         'Freedom to make life choices':'Freedom',\n",
    "                        'Perceptions of corruption':'Trust (Government Corruption)',\n",
    "                       'Dystopia + residual':'Dystopia Residual'}, inplace = True)\n",
    "df_21['Happiness Rank'] = df_21['Happiness Score'].rank(ascending=False)\n",
    "\n",
    "\n",
    "df_22 = pd.read_csv('https://raw.githubusercontent.com/cklostermann/STAT-451-project/main/2022.csv')\n",
    "df_22[\"Year\"] = 2022"
   ]
  },
  {
   "cell_type": "code",
   "execution_count": 94,
   "metadata": {},
   "outputs": [],
   "source": [
    "#merge datasets\n",
    "df = pd.concat([df_15, df_16, df_17, df_18, df_19])\n",
    "\n",
    "list(df.columns) #will have to clean up column names so that they can merge properly\n",
    "df = df.iloc[:, 0:13]\n",
    "df = df.drop(['Region','Standard Error'], 1)"
   ]
  },
  {
   "cell_type": "code",
   "execution_count": 95,
   "metadata": {},
   "outputs": [],
   "source": [
    "#rescale happiness scores\n",
    "X = df[\"Happiness Score\"].values.reshape(-1, 1)\n",
    "scaler = MinMaxScaler()\n",
    "X_scaled = scaler.fit_transform(X) # do scaling\n",
    "df[\"Happiness Score\"] = X_scaled"
   ]
  },
  {
   "cell_type": "code",
   "execution_count": 96,
   "metadata": {},
   "outputs": [],
   "source": [
    "#add column to categorize happiness scores as low, medium, and high\n",
    "df[\"Score Category\"] = pd.cut(df[\"Happiness Score\"], bins=[0, .33, .67, 1.0], \n",
    "                              right=False, labels=['low', 'med', 'high'])\n",
    "\n",
    "#remove rows with NA values\n",
    "df = df.dropna()"
   ]
  },
  {
   "cell_type": "code",
   "execution_count": 97,
   "metadata": {},
   "outputs": [],
   "source": [
    "#split dataset into 75% training and 25% testing data\n",
    "X = np.array(df[['Social support', 'Health (Life Expectancy)']])\n",
    "y = np.array(df[['Score Category']]).ravel()\n",
    "X_train, X_test, y_train, y_test = train_test_split(X, y, test_size=.25, random_state=0, stratify=y)"
   ]
  },
  {
   "cell_type": "code",
   "execution_count": 101,
   "metadata": {},
   "outputs": [
    {
     "data": {
      "text/plain": [
       "<matplotlib.legend.Legend at 0x7faa714d9b20>"
      ]
     },
     "execution_count": 101,
     "metadata": {},
     "output_type": "execute_result"
    },
    {
     "data": {
      "image/png": "[encoded data removed]",
      "text/plain": [
       "<Figure size 432x288 with 1 Axes>"
      ]
     },
     "metadata": {
      "needs_background": "light"
     },
     "output_type": "display_data"
    }
   ],
   "source": [
    "#plot Social support vs health\n",
    "plt.plot(X_train[y_train == \"low\", 0], X_train[y_train == \"low\", 1], '.r', label='training low')\n",
    "plt.plot(X_train[y_train == \"med\", 0], X_train[y_train == \"med\", 1], '.b', label='training med')\n",
    "plt.plot(X_train[y_train == \"high\", 0], X_train[y_train == \"high\", 1], '.g', label='training high')\n",
    "plt.title('Social support vs health by happiness score group (training data)')\n",
    "plt.xlabel('Social support')\n",
    "plt.ylabel('Health (Life Expectancy)')\n",
    "plt.legend()"
   ]
  },
  {
   "cell_type": "code",
   "execution_count": 99,
   "metadata": {},
   "outputs": [
    {
     "name": "stdout",
     "output_type": "stream",
     "text": [
      "Test accuracy is 0.7372881355932204\n"
     ]
    }
   ],
   "source": [
    "#knn classifier\n",
    "knn = KNeighborsClassifier(n_neighbors=3, metric='euclidean')\n",
    "knn.fit(X_train, y_train)\n",
    "y_pred = knn.predict(X_test)\n",
    "print(f'Test accuracy is {metrics.accuracy_score(y_test, y_pred)}')"
   ]
  },
  {
   "cell_type": "code",
   "execution_count": null,
   "metadata": {},
   "outputs": [],
   "source": []
  }
 ],
 "metadata": {
  "kernelspec": {
   "display_name": "Python 3",
   "language": "python",
   "name": "python3"
  },
  "language_info": {
   "codemirror_mode": {
    "name": "ipython",
    "version": 3
   },
   "file_extension": ".py",
   "mimetype": "text/x-python",
   "name": "python",
   "nbconvert_exporter": "python",
   "pygments_lexer": "ipython3",
   "version": "3.8.1"
  }
 },
 "nbformat": 4,
 "nbformat_minor": 4
}
